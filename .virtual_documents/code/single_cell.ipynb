








%reset -f
import scanpy as sc
import anndata as ad
import pandas as pd
import numpy as np
import os
os.getcwd()
try:
    os.chdir("/home/williamhan/Documents/code/Python/bio_informatics/PRJNA912889+NextSeq6000+MCAO")
except:
    os.chdir("D:/Python/bio_informatics/PRJNA912889+NextSeq6000+MCAO")
    
targets = pd.DataFrame({
    "group": ["S12h","S3h","sham","S3d"],
    "SRR_id": "SRR263317" + pd.Series(["08","09","10","11"])
})
targets.loc[:,"filedirs"] = [f"data/{i}_filtered_feature_bc_matrix.h5" 
                             for i in targets.loc[:,"SRR_id"]]
targets.to_csv("data/targets.csv", index=None)
targets


adatas = {}

for idx,row in targets.iterrows():
    sample_adata = sc.read_10x_h5(row["filedirs"])
    sample_adata.var_names_make_unique()
    adatas[row["group"]] = sample_adata

adata = ad.concat(adatas, label="sample")
adata.obs_names_make_unique()
adata.var_names = pd.Series(adata.var_names).str.replace(r"\w+_","",regex=True)
adata.write("data/scdata_raw_PRJNA912889.h5ad")
adata





%reset -f
import numpy as np
import anndata as ad
import scanpy as sc
import pandas as pd
import os
os.getcwd()
try:
    os.chdir("/home/williamhan/Documents/code/Python/bio_informatics/PRJNA912889+NextSeq6000+MCAO")
except:
    os.chdir("D:/Python/bio_informatics/PRJNA912889+NextSeq6000+MCAO")

adata = ad.read_h5ad("data/scdata_raw_PRJNA912889.h5ad")
print(adata)
targets = pd.read_csv("data/targets.csv")

# 线粒体基因
adata.var.loc[:,"mt"] = adata.var_names.str.contains("mt-")
# 核糖体基因
adata.var.loc[:,"ribo"] = adata.var_names.str.contains("RP[S|L]{1}")
# 血红蛋白基因
adata.var.loc[:,"hb"] = adata.var_names.str.contains("HB[^(P)]")

sc.pp.calculate_qc_metrics(
    adata, qc_vars=["mt", "ribo", "hb"], inplace=True, percent_top=[20], log1p=True
)

adata.obs[['total_counts','n_genes_by_counts','pct_counts_mt',]]


import matplotlib.pyplot as plt
# 阈值
mito_filter = 15
n_counts_filter = 4300
# 设置图片布局
fig, axs = plt.subplots(ncols = 2, figsize = (8,4))
# 绘制散点图
sc.pl.scatter(adata, x='total_counts', y='pct_counts_mt',ax = axs[0], show=False)
sc.pl.scatter(adata, x='total_counts', y='n_genes_by_counts',ax = axs[1], show = False)
# 绘制阈值标志线
axs[0].hlines(y = mito_filter, xmin = 0, xmax = max(adata.obs['total_counts']), color = 'red', ls = 'dashed')
axs[1].hlines(y = n_counts_filter, xmin = 0, xmax = max(adata.obs['total_counts']), color = 'red', ls = 'dashed')
# 紧致边界
fig.tight_layout()
plt.show()


thres={'mito_perc': 15, 'nUMIs': 500, 'detected_genes': 250}

adata.obs['passing_mt'] = adata.obs['pct_counts_mt'] < thres['mito_perc']
adata.obs['passing_nUMIs'] = adata.obs['total_counts'] > thres['nUMIs']
adata.obs['passing_ngenes'] = adata.obs['n_genes_by_counts'] > thres['detected_genes']

print(f"Lower threshold, total counts: {thres["nUMIs"]}; \
    filtered-out-cells: {adata.n_obs-np.sum(adata.obs["passing_nUMIs"])}")
print(f'Lower threshold, n genes: {thres["detected_genes"]};\
    filtered-out-cells: {adata.n_obs-np.sum(adata.obs["passing_ngenes"])}')
print(f'Lower threshold, mito %: {thres["mito_perc"]};\
    filtered-out-cells: {adata.n_obs-np.sum(adata.obs["passing_mt"])}')

QC_test = (adata.obs['passing_mt']) & (adata.obs['passing_nUMIs']) & (adata.obs['passing_ngenes'])
removed = QC_test.loc[lambda x : x == False]
print(f'Total cell filtered out with this last  QC (and its chosen options): {adata.n_obs-np.sum(QC_test)}')
n0 = adata.n_obs
adata = adata[QC_test, :].copy()
    
# Store cleaned adata
print(f'Cells retained after Lower threshold filtering: {adata.n_obs},\
{n0-adata.n_obs} removed.')


n0 = adata.n_obs
# 清理低测序深度的barcode
# inplace = True:执行后覆盖原变量
sc.pp.filter_cells(adata, min_genes=200, inplace = True)
# 清理低覆盖度的barcode
sc.pp.filter_genes(adata, min_cells=3, inplace = True)
print(f'Cells retained after Lower Coverage&Depth filtering: {adata.n_obs},\
{n0-adata.n_obs} removed.')





print('Begin of post doublets removal and QC plot')
sc.pp.scrublet(adata, random_state=112)
n0 = adata.n_obs
adata_scrublet = adata[adata.obs['predicted_doublet']==False, :].copy()

print(f'Cells retained after scrublet: {adata_scrublet.n_obs}, {n0-adata_scrublet.n_obs} removed.')
print(f'End of post doublets removal and QC plots.')





adata_qc = adata_scrublet
print(adata_scrublet)
adata_qc.write("data/scdata_qc_PRJNA912889.h5ad")








%reset -f
import numpy as np
import anndata as ad
import scanpy as sc
import pandas as pd
import os
os.getcwd()
try:
    os.chdir("/home/williamhan/Documents/code/Python/bio_informatics/PRJNA912889+NextSeq6000+MCAO")
except:
    os.chdir("D:/Python/bio_informatics/PRJNA912889+NextSeq6000+MCAO")

adata = ad.read_h5ad("data/scdata_qc_PRJNA912889.h5ad")
targets = pd.read_csv("data/targets.csv")
scales_counts = sc.pp.normalize_total(adata, target_sum=None, inplace=False)
# log1p transform
adata.layers["log1p_norm"] = sc.pp.log1p(scales_counts["X"], copy=True)

import seaborn as sns
import matplotlib.pyplot as plt

fig, axes = plt.subplots(1, 2, figsize=(8, 4))
p1 = sns.histplot(adata.obs["total_counts"], bins=100, kde=False, ax=axes[0])
axes[0].set_title("Total counts")
p2 = sns.histplot(adata.layers["log1p_norm"].sum(1), bins=100, kde=False, ax=axes[1])
axes[1].set_title("Shifted logarithm")
plt.show()





from scipy.sparse import csr_matrix

analytic_pearson = sc.experimental.pp.normalize_pearson_residuals(adata, inplace=False)
adata.layers["analytic_pearson_residuals"] = csr_matrix(analytic_pearson["X"])

fig, axes = plt.subplots(1, 2, figsize=(8, 4))
p1 = sns.histplot(adata.obs["total_counts"], bins=100, kde=False, ax=axes[0])
axes[0].set_title("Total counts")
p2 = sns.histplot(
    np.nan_to_num(adata.layers["analytic_pearson_residuals"].toarray()).sum(axis=1),
    bins=100, kde=False, 
    ax=axes[1]
)
axes[1].set_title("Analytic Pearson residuals")
plt.show()

adata.write("data/scdata_normlized_PRJNA912889.h5ad")





%reset -f
import numpy as np
import anndata as ad
import scanpy as sc
import pandas as pd
import os
os.getcwd()
try:
    os.chdir("/home/williamhan/Documents/code/Python/bio_informatics/PRJNA912889+NextSeq6000+MCAO")
except:
    os.chdir("D:/Python/bio_informatics/PRJNA912889+NextSeq6000+MCAO")

adata = sc.read("data/scdata_qc_PRJNA912889.h5ad")
#存储原始数据以便后续还原
adata.layers['counts']=adata.X.copy()

sc.pp.normalize_total(adata)
sc.pp.log1p(adata)
adata








adata_dis_num=sc.pp.highly_variable_genes(
    adata,
    flavor="seurat",
    n_top_genes=2000,
    subset=False,
    inplace=False,
)
adata_dis_num





adata_dis_cutoff=sc.pp.highly_variable_genes(
    adata,
    flavor="seurat",
    min_disp=0.5,
    min_mean=0.0125,
    max_mean=3,
    subset=False,
    inplace=False,
)
adata_dis_cutoff['highly_variable'].value_counts()





adata_var_num=sc.pp.highly_variable_genes(
    adata,
    flavor="seurat_v3",
    layer='counts',
    n_top_genes=2000,
    subset=False,
    inplace=False,
)
adata_var_num['highly_variable'].value_counts()





adata_pearson_num=sc.experimental.pp.highly_variable_genes(
    adata, 
    flavor="pearson_residuals",
    layer='counts',
    n_top_genes=2000,
    subset=False,
    inplace=False,
)
adata.var["highly_variable"] = adata_pearson_num["highly_variable"]
adata_pearson_num['highly_variable'].value_counts()

targets = pd.read_csv("data/targets.csv")
adata.write(f"data/scdata_preprocess_PRJNA912889.h5ad")
adata


adata_dis_num.index=adata.var_names.copy()
adata_dis_cutoff.index=adata.var_names.copy()
adata_var_num.index=adata.var_names.copy()
adata_pearson_num.index=adata.var_names.copy()

import matplotlib.pyplot as plt
from matplotlib_venn import venn3

# 三个列表的元素
list1 = set(adata_dis_num.loc[adata_dis_num['highly_variable']==True].index.tolist())
list2 = set(adata_var_num.loc[adata_var_num['highly_variable']==True].index.tolist())
list3 = set(adata_pearson_num.loc[adata_pearson_num['highly_variable']==True].index.tolist())

# 绘制 Venn 图
venn = venn3([list1, list2, list3], set_labels=('Dis', 'Var', 'Pearson'))

# 显示图形
plt.title("Venn Diagram of Three HVGs")
plt.show()








%reset -f
import numpy as np
import anndata as ad
import scanpy as sc
import pandas as pd
import os
os.getcwd()
try:
    os.chdir("/home/williamhan/Documents/code/Python/bio_informatics/PRJNA912889+NextSeq6000+MCAO")
except:
    os.chdir("D:/Python/bio_informatics/PRJNA912889+NextSeq6000+MCAO")

adata = sc.read("data/scdata_qc_PRJNA912889.h5ad")

# 备份原始数据
adata.raw = adata.copy()
# 归一化
sc.pp.normalize_total(adata)
sc.pp.log1p(adata)
# 筛选高可变基因
# batch_key:按样本筛选高变基因
sc.pp.highly_variable_genes(adata, n_top_genes=2000, batch_key="sample")
# highly_variable_nbatches：哪一个样本的batch中出现的hvg
adata = adata[:,adata.var['highly_variable_nbatches']>0]
adata





adata_cluster = adata
sc.tl.pca(adata_cluster)
# 主成分分析分群结果
# log：对数zuo
sc.pl.pca_variance_ratio(adata_cluster, n_pcs=50, log=True,)
sc.pl.pca(
    adata_cluster,
    color=["sample", "sample", "pct_counts_mt", "pct_counts_mt"],
    dimensions=[(0, 1), (2, 3), (0, 1), (2, 3)],
    ncols=2,
    size=2,
)
adata_cluster





sc.pp.neighbors(adata)
sc.tl.umap(adata)
sc.pl.umap(
    adata,
    color="sample",
    # Setting a smaller point size to get prevent overlap
    size=2,
)





# 如果选择 use_rep="X_pca" 时间多一秒左右，图像没有本质区别
sc.tl.tsne(adata)
sc.pl.tsne(
    adata,
    color="sample",
    # Setting a smaller point size to get prevent overlap
    size=2
)
adata








%reset -f
import numpy as np
import anndata as ad
import scanpy as sc
import pandas as pd
import os
import matplotlib.pyplot as plt
os.getcwd()
try:
    os.chdir("/home/williamhan/Documents/code/Python/bio_informatics/PRJNA912889+NextSeq6000+MCAO")
except:
    os.chdir("D:/Python/bio_informatics/PRJNA912889+NextSeq6000+MCAO")
sc.settings.verbosity = 3

adata = sc.read("data/scdata_qc_PRJNA912889.h5ad")

# 备份原始数据
adata.raw = adata.copy()
# 归一化
sc.pp.normalize_total(adata)
sc.pp.log1p(adata)
# 筛选高可变基因
# batch_key:按样本筛选高变基因
sc.pp.highly_variable_genes(adata, n_top_genes=2000, batch_key="sample")
# highly_variable_nbatches：哪一个样本的batch中出现的hvg
adata = adata[:,adata.var['highly_variable_nbatches']>0]
# 输出高变基因供查找
pd.Series(adata.var.index).to_csv("data/hvg.csv")

sc.pp.pca(adata, n_comps=30)
# umap
sc.pp.neighbors(adata)
sc.tl.umap(adata)
# tsne
sc.tl.tsne(adata)
adata





sc.tl.leiden(adata, 
             flavor="igraph", 
             random_state=111,
             n_iterations=2, 
             directed=False)

adata.write("data/scdata_cluster_PRJNA912889.h5ad")


sc.pl.umap(adata, color="leiden", save="_cluster.pdf")


adata.obs








%reset -f
import numpy as np
import anndata as ad
import scanpy as sc
import pandas as pd
import os
import matplotlib.pyplot as plt
os.getcwd()
os.chdir("D:/Python/bio_informatics/PRJNA912889+NextSeq6000+MCAO")
sc.settings.verbosity = 3

adata = sc.read("data/scdata_cluster_PRJNA912889.h5ad")
adata


fig = plt.figure()  # an empty figure with no Axes
fig, ax = plt.subplots()
sc.pl.umap(adata, color="leiden", ax=ax, show=False)
ax.axis("off")
# ax.tick_params(top="off",
#                bottom="off",
#                left="off",
#                right="off",
#                labelleft="on",
#                labelbottom="off")
fig.savefig("figure/cluster_umap.pdf", bbox_inches="tight", format="pdf")


sc.pl.umap(adata, 
           color=["Neurod6", "Rbfox3"],
          cmap="bwr")





import json
with open("data/cell_marker_mmu_prjna912889.json", "r") as f:
    small_marker_dict = json.load(f)
small_marker_dict


# 取该数据集高变基因和注释字典内基因交集
marker_genes_in_data = dict()
for ct, markers in small_marker_dict.items():
    markers_found = list()
    for marker in markers:
        if marker in adata.var.index:
            markers_found.append(marker)
    marker_genes_in_data[ct] = markers_found


sc.tl.dendrogram(adata,'leiden',use_rep="X_pca")
sc.pl.dotplot(
    adata,
    groupby="leiden_res1",
    var_names=marker_genes_in_data,
    dendrogram=True,
    standard_scale="var",  # standard scale: normalize each gene to range from 0 to 1
)






